{
 "cells": [
  {
   "cell_type": "code",
   "execution_count": 1,
   "metadata": {},
   "outputs": [],
   "source": [
    "from simulator import Simulator\n",
    "from prob_constraints import TransmissionProbabilityProblem\n",
    "from generator import *\n",
    "from params_problem import ProblemParams"
   ]
  },
  {
   "cell_type": "markdown",
   "metadata": {},
   "source": [
    "# FileRecord"
   ]
  },
  {
   "cell_type": "code",
   "execution_count": 2,
   "metadata": {},
   "outputs": [
    {
     "name": "stdout",
     "output_type": "stream",
     "text": [
      "1 for sample 1 {'sigmaP': 0.8949189395284435, 'sigmaSmax': 0.5690398472221145, 'Dpp': 7.7246490935568355, 'Dss': 9.683314270122064, 'Dps': 25.162344652610823, 'Dsp': 6.859701451393198} ==> [PASS] \n",
      "2 for sample 2 {'sigmaP': 0.8994603071997923, 'sigmaSmax': 0.9996603062818156, 'Dpp': 4.067561216627952, 'Dss': 0.1959534807697038, 'Dps': 1.9216550281123224, 'Dsp': 7.612628414485895} ==> [PASS] \n",
      "3 for sample 3 {'sigmaP': 0.8999920894873709, 'sigmaSmax': 0.9400245064409076, 'Dpp': 1.2170656416457548, 'Dss': 14.13090267570226, 'Dps': 6.206387114335467, 'Dsp': 17.750473867595325} ==> [PASS] \n",
      "4 for sample 4 {'sigmaP': 0.8844683630267977, 'sigmaSmax': 0.9165532515896848, 'Dpp': 10.647622942126322, 'Dss': 4.016835643042644, 'Dps': 20.66460589992428, 'Dsp': 8.085601862911295} ==> [PASS] \n",
      "5 for sample 5 {'sigmaP': 0.5402108633912761, 'sigmaSmax': 0.9076323111082464, 'Dpp': 27.95439988414336, 'Dss': 1.681459466471581, 'Dps': 21.741858778903225, 'Dsp': 8.257337834657585} ==> [PASS] \n",
      "6 for sample 6 {'sigmaP': 0.8654330408133327, 'sigmaSmax': 0.9979420724134638, 'Dpp': 13.423501992662532, 'Dss': 0.977572002341318, 'Dps': 19.77144945451069, 'Dsp': 7.577564579779309} ==> [PASS] \n",
      "7 for sample 7 {'sigmaP': 0.8836818629764083, 'sigmaSmax': 0.9999927335747968, 'Dpp': 10.800334854961765, 'Dss': 0.6591377531701847, 'Dps': 16.269473413859323, 'Dsp': 26.892707119555293} ==> [PASS] \n",
      "8 for sample 8 {'sigmaP': 0.8991981869791097, 'sigmaSmax': 0.9999998418745156, 'Dpp': 4.554849481172773, 'Dss': 0.3339032416314791, 'Dps': 13.690347877548849, 'Dsp': 26.361343816588207} ==> [PASS] \n",
      "9 for sample 9 {'sigmaP': 0.8999992179460128, 'sigmaSmax': 0.9905808140579953, 'Dpp': 0.6283184708211387, 'Dss': 8.830698251950556, 'Dps': 25.64066125661672, 'Dsp': 3.738340882267228} ==> [PASS] \n",
      "10 for sample 10 {'sigmaP': 0.8999514915766899, 'sigmaSmax': 0.9992956971320645, 'Dpp': 2.043379125997867, 'Dss': 4.20232635736819, 'Dps': 25.537930425352243, 'Dsp': 12.201250729366269} ==> [PASS] \n"
     ]
    }
   ],
   "source": [
    "static_params = [\"NP\", \"NE\", \"NF\", \"NS\", \"PP\", \"PS\", \"RbP\", \"RbS\", \"RsP\", \"RsS\" ,\"rhoP\", \"rhoS\", \"R0\"]\n",
    "rename_params = {\n",
    "    \"G.SigmaS\": \"sigmaSmax\",\n",
    "    \"sigmaSmax\": None,\n",
    "    \"sigmaPmax\": None,\n",
    "    \"thetaS\": None,\n",
    "    \"sigmaS\": None,\n",
    "    \"ABC\": None,\n",
    "    \"DEF\": \"abc\"\n",
    "}\n",
    "\n",
    "generator1 = FileRecordGenerator(\"reader-test.csv\", static_params, rename_params, limit=None)\n",
    "\n",
    "\n",
    "simulator = Simulator(\n",
    "    \"Test\", \n",
    "    TransmissionProbabilityProblem, \n",
    "    None,     \n",
    "    demo=True,\n",
    "    pop_size=20,\n",
    "    variant=\"DE/rand/1/bin\",\n",
    "    CR=0.9,\n",
    "    F=0.5,\n",
    "    n_max_gen=50\n",
    ")\n",
    "\n",
    "result_file = simulator.start(generator1)\n"
   ]
  },
  {
   "cell_type": "markdown",
   "metadata": {},
   "source": [
    "# Combination"
   ]
  },
  {
   "cell_type": "code",
   "execution_count": 3,
   "metadata": {},
   "outputs": [
    {
     "name": "stderr",
     "output_type": "stream",
     "text": [
      "/home/vu.xuan.bac@sun-asterisk.com/b/c/final-project/src/params_problem.py:107: RuntimeWarning: overflow encountered in exp\n",
      "  return lambda x: x * c * (np.exp(-a / x) / b - 1)\n"
     ]
    },
    {
     "name": "stdout",
     "output_type": "stream",
     "text": [
      "0 for sample 0 {'RbP': 0.5, 'RbS': 0.1} ==> [FAIL] \n",
      "1 for sample 0 {'RbP': 0.5, 'RbS': 0.1} ==> [PASS] \n",
      "2 for sample 1 {'RbP': 0.5, 'RbS': 0.1} ==> [PASS] \n",
      "3 for sample 2 {'RbP': 0.5, 'RbS': 0.1} ==> [FAIL] \n",
      "4 for sample 2 {'RbP': 0.5, 'RbS': 0.1} ==> [PASS] \n",
      "Success    3/   5\t\tRunning Time: 0.00 mins\n",
      "5 for sample 3 {'RbP': 0.5, 'RbS': 1.05} ==> [PASS] \n",
      "6 for sample 4 {'RbP': 0.5, 'RbS': 1.05} ==> [FAIL] \n",
      "7 for sample 4 {'RbP': 0.5, 'RbS': 1.05} ==> [PASS] \n",
      "8 for sample 5 {'RbP': 0.5, 'RbS': 1.05} ==> [FAIL] \n",
      "0 for sample 5 {'RbP': 0.5, 'RbS': 1.05} ==> [PASS] \n",
      "Success    6/  10\t\tRunning Time: 0.00 mins\n",
      "1 for sample 6 {'RbP': 0.5, 'RbS': 2.0} ==> [FAIL] \n",
      "2 for sample 6 {'RbP': 0.5, 'RbS': 2.0} ==> [PASS] \n",
      "3 for sample 7 {'RbP': 0.5, 'RbS': 2.0} ==> [FAIL] \n",
      "4 for sample 7 {'RbP': 0.5, 'RbS': 2.0} ==> [PASS] \n",
      "5 for sample 8 {'RbP': 0.5, 'RbS': 2.0} ==> [PASS] \n",
      "Success    9/  15\t\tRunning Time: 0.00 mins\n",
      "6 for sample 9 {'RbP': 1.0, 'RbS': 0.1} ==> [PASS] \n",
      "7 for sample 10 {'RbP': 1.0, 'RbS': 0.1} ==> [PASS] \n",
      "8 for sample 11 {'RbP': 1.0, 'RbS': 0.1} ==> [PASS] \n",
      "Success   12/  18\t\tRunning Time: 0.00 mins\n",
      "0 for sample 12 {'RbP': 1.0, 'RbS': 1.05} ==> [PASS] \n",
      "1 for sample 13 {'RbP': 1.0, 'RbS': 1.05} ==> [PASS] \n",
      "2 for sample 14 {'RbP': 1.0, 'RbS': 1.05} ==> [PASS] \n",
      "Success   15/  21\t\tRunning Time: 0.00 mins\n",
      "3 for sample 15 {'RbP': 1.0, 'RbS': 2.0} ==> [PASS] \n",
      "4 for sample 16 {'RbP': 1.0, 'RbS': 2.0} ==> [PASS] \n",
      "5 for sample 17 {'RbP': 1.0, 'RbS': 2.0} ==> [PASS] \n",
      "Success   18/  24\t\tRunning Time: 0.02 mins\n"
     ]
    }
   ],
   "source": [
    "params = ProblemParams(PP=20, PS=20, NP=1, NS=1, rhoP=0.9, rhoS=0.0, R0=30)\n",
    "\n",
    "RbS = list(np.round(np.linspace(0.1, 2.0, 3), 2))  # step = 0.05\n",
    "\n",
    "_generator5 = CombinationGenerator(params, None, False, RbP=[0.5, 1.0], RbS=RbS)\n",
    "generator5 = SampleGenerator(\n",
    "    _generator5, 3,\n",
    "    [Channel.PP, Channel.PS, Channel.SP, Channel.SS],\n",
    "    params.R0,\n",
    "    retries_per_sample=2,\n",
    "    set_params_dynamic=True\n",
    ")\n",
    "\n",
    "simulator = Simulator(\n",
    "    \"Test\", \n",
    "    TransmissionProbabilityProblem, \n",
    "    None,     \n",
    "    demo=True,\n",
    "    pop_size=20,\n",
    "    variant=\"DE/rand/1/bin\",\n",
    "    CR=0.9,\n",
    "    F=0.5,\n",
    "    n_max_gen=50\n",
    ")\n",
    "\n",
    "result_file = simulator.start(generator5)\n"
   ]
  }
 ],
 "metadata": {
  "kernelspec": {
   "display_name": "optimization",
   "language": "python",
   "name": "python3"
  },
  "language_info": {
   "codemirror_mode": {
    "name": "ipython",
    "version": 3
   },
   "file_extension": ".py",
   "mimetype": "text/x-python",
   "name": "python",
   "nbconvert_exporter": "python",
   "pygments_lexer": "ipython3",
   "version": "3.10.12"
  }
 },
 "nbformat": 4,
 "nbformat_minor": 2
}
