{
 "cells": [
  {
   "cell_type": "code",
   "execution_count": 1,
   "metadata": {},
   "outputs": [],
   "source": [
    "from params_problem import *"
   ]
  },
  {
   "cell_type": "markdown",
   "metadata": {},
   "source": [
    "# Case 1: Dynamic Params\n",
    "\n",
    "Change channels ==> Change some params like: `sigmaPmax, sigmaSmax` (based on `ptx_power_max`), `sigmaP, sigmaS` (based on max and `rho`)"
   ]
  },
  {
   "cell_type": "code",
   "execution_count": 2,
   "metadata": {},
   "outputs": [
    {
     "name": "stdout",
     "output_type": "stream",
     "text": [
      "{'NP': 1, 'NE': 1, 'NS': 1, 'NF': 1, 'PP': 20, 'PS': 20, 'RbP': 1.0, 'RbS': 1.0, 'RsP': 0.8, 'RsS': 0.8, 'R0': 30, 'rhoP': 0.9, 'rhoS': 0.5}\n",
      "{'NP': 1, 'NE': 1, 'NS': 1, 'NF': 1, 'PP': 20, 'PS': 20, 'RbP': 1.0, 'RbS': 1.0, 'RsP': 0.8, 'RsS': 0.8, 'R0': 30, 'rhoP': 0.9, 'rhoS': 0.5, 'Dpp': 10, 'Dsp': 5, 'Dps': 12, 'Dss': 9, 'Abc': 123, 'sigmaPmax': 0.9861217780464565, 'sigmaSmax': 0.9903812927452708, 'sigmaP': 0.8875096002418109, 'sigmaS': 0.4951906463726354}\n"
     ]
    }
   ],
   "source": [
    "P = ProblemParams(rhoP=0.9, rhoS=0.5)\n",
    "print(P.get_state())\n",
    "P.set_params(True, Dpp=10, Dsp=5, Dps=12, Dss=9, Abc=123)\n",
    "print(P.get_state())"
   ]
  },
  {
   "cell_type": "markdown",
   "metadata": {},
   "source": [
    "# Case 2: Custom Params\n",
    "\n",
    "Set `sigmaPmax, sigmaSmax`, `sigmaP, sigmaS` manually\n",
    "==> If set `sigmaPmax`, should set `sigmaP` based on `rhoP` also"
   ]
  },
  {
   "cell_type": "code",
   "execution_count": 3,
   "metadata": {},
   "outputs": [
    {
     "name": "stdout",
     "output_type": "stream",
     "text": [
      "{'NP': 1, 'NE': 1, 'NS': 1, 'NF': 1, 'PP': 20, 'PS': 20, 'RbP': 1.0, 'RbS': 1.0, 'RsP': 0.8, 'RsS': 0.8, 'R0': 30, 'rhoP': 0.9, 'rhoS': 0.5, 'sigmaSmax': 0.8745, 'sigmaP': 0.9899, 'sigmaS': 0.43725}\n"
     ]
    }
   ],
   "source": [
    "P2 = ProblemParams(rhoP=0.9, rhoS=0.5)\n",
    "P2.set_params(False, sigmaSmax=0.8745, sigmaP=0.9899)\n",
    "print(P2.get_state())"
   ]
  },
  {
   "cell_type": "markdown",
   "metadata": {},
   "source": [
    "# Case 3: Custom Params\n",
    "\n",
    "Dont set `sigmaPmax, sigmaSmax`, `sigmaP, sigmaS` manually at all\n",
    "==> They should be unset (None)"
   ]
  },
  {
   "cell_type": "code",
   "execution_count": 4,
   "metadata": {},
   "outputs": [
    {
     "name": "stdout",
     "output_type": "stream",
     "text": [
      "{'NP': 1, 'NE': 1, 'NS': 1, 'NF': 1, 'PP': 20, 'PS': 20, 'RbP': 2.0, 'RbS': 1.5, 'RsP': 0.8, 'RsS': 0.8, 'R0': 30, 'rhoP': 0.0, 'rhoS': 0.0, 'sigmaP': None, 'sigmaS': None}\n"
     ]
    }
   ],
   "source": [
    "P3 = ProblemParams()\n",
    "P3.set_params(False, RbP = 2.0, RbS=1.5)\n",
    "print(P3.get_state())"
   ]
  },
  {
   "cell_type": "markdown",
   "metadata": {},
   "source": [
    "# Case 4: Custom Params\n",
    "\n",
    "Set `sigmaPmax, sigmaSmax`, `sigmaP, sigmaS` manually\n",
    "==> If set both `sigmaPmax` and `sigmaP`, keep them all"
   ]
  },
  {
   "cell_type": "code",
   "execution_count": 5,
   "metadata": {},
   "outputs": [
    {
     "name": "stdout",
     "output_type": "stream",
     "text": [
      "{'NP': 1, 'NE': 1, 'NS': 1, 'NF': 1, 'PP': 20, 'PS': 20, 'RbP': 1.0, 'RbS': 1.0, 'RsP': 0.8, 'RsS': 0.8, 'R0': 30, 'rhoP': 0.0, 'rhoS': 0.0, 'sigmaSmax': 0.8745, 'sigmaS': 0.9899, 'sigmaP': None}\n"
     ]
    }
   ],
   "source": [
    "P4 = ProblemParams()\n",
    "P4.set_params(False, sigmaSmax=0.8745, sigmaS=0.9899)\n",
    "print(P4.get_state())"
   ]
  }
 ],
 "metadata": {
  "kernelspec": {
   "display_name": "Optimization",
   "language": "python",
   "name": "python3"
  },
  "language_info": {
   "codemirror_mode": {
    "name": "ipython",
    "version": 3
   },
   "file_extension": ".py",
   "mimetype": "text/x-python",
   "name": "python",
   "nbconvert_exporter": "python",
   "pygments_lexer": "ipython3",
   "version": "3.10.7"
  }
 },
 "nbformat": 4,
 "nbformat_minor": 2
}
