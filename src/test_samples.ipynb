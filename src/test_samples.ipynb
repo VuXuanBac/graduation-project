{
 "cells": [
  {
   "cell_type": "code",
   "execution_count": 2,
   "metadata": {},
   "outputs": [],
   "source": [
    "from generator import *\n",
    "from params_problem import ProblemParams"
   ]
  },
  {
   "cell_type": "markdown",
   "metadata": {},
   "source": []
  },
  {
   "cell_type": "markdown",
   "metadata": {},
   "source": [
    "# FileRecordGenerator"
   ]
  },
  {
   "cell_type": "code",
   "execution_count": 2,
   "metadata": {},
   "outputs": [],
   "source": [
    "static_params = [\"NP\", \"NE\", \"NF\", \"NS\", \"PP\", \"PS\", \"RbP\", \"RbS\", \"RsP\", \"RsS\" ,\"rhoP\", \"rhoS\", \"R0\"]\n",
    "rename_params = {\n",
    "    \"G.SigmaS\": \"sigmaSmax\",\n",
    "    \"sigmaSmax\": None,\n",
    "    \"sigmaPmax\": None,\n",
    "    \"thetaS\": None,\n",
    "    \"sigmaS\": None,\n",
    "    \"ABC\": None,\n",
    "    \"DEF\": \"abc\"\n",
    "}"
   ]
  },
  {
   "cell_type": "code",
   "execution_count": 3,
   "metadata": {},
   "outputs": [
    {
     "name": "stdout",
     "output_type": "stream",
     "text": [
      "{'Dps': 25.162344652610823, 'Dsp': 6.859701451393198, 'Dpp': 7.7246490935568355, 'Dss': 9.683314270122064, 'sigmaP': 0.8949189395284435, 'sigmaSmax': 0.5690398472221145}\n",
      "{'Dps': 1.9216550281123224, 'Dsp': 7.612628414485895, 'Dpp': 4.067561216627952, 'Dss': 0.1959534807697038, 'sigmaP': 0.8994603071997923, 'sigmaSmax': 0.9996603062818156}\n",
      "{'Dps': 6.206387114335467, 'Dsp': 17.750473867595325, 'Dpp': 1.2170656416457548, 'Dss': 14.13090267570226, 'sigmaP': 0.8999920894873709, 'sigmaSmax': 0.9400245064409076}\n",
      "{'Dps': 20.66460589992428, 'Dsp': 8.085601862911295, 'Dpp': 10.647622942126322, 'Dss': 4.016835643042644, 'sigmaP': 0.8844683630267977, 'sigmaSmax': 0.9165532515896848}\n",
      "{'Dps': 21.741858778903225, 'Dsp': 8.257337834657585, 'Dpp': 27.95439988414336, 'Dss': 1.681459466471581, 'sigmaP': 0.5402108633912761, 'sigmaSmax': 0.9076323111082464}\n",
      "{'Dps': 19.77144945451069, 'Dsp': 7.577564579779309, 'Dpp': 13.423501992662532, 'Dss': 0.977572002341318, 'sigmaP': 0.8654330408133327, 'sigmaSmax': 0.9979420724134638}\n",
      "{'Dps': 16.269473413859323, 'Dsp': 26.892707119555293, 'Dpp': 10.800334854961765, 'Dss': 0.6591377531701847, 'sigmaP': 0.8836818629764083, 'sigmaSmax': 0.9999927335747968}\n",
      "{'Dps': 13.690347877548849, 'Dsp': 26.361343816588207, 'Dpp': 4.554849481172773, 'Dss': 0.3339032416314791, 'sigmaP': 0.8991981869791097, 'sigmaSmax': 0.9999998418745156}\n",
      "{'Dps': 25.64066125661672, 'Dsp': 3.738340882267228, 'Dpp': 0.6283184708211387, 'Dss': 8.830698251950556, 'sigmaP': 0.8999992179460128, 'sigmaSmax': 0.9905808140579953}\n",
      "{'Dps': 25.537930425352243, 'Dsp': 12.201250729366269, 'Dpp': 2.043379125997867, 'Dss': 4.20232635736819, 'sigmaP': 0.8999514915766899, 'sigmaSmax': 0.9992956971320645}\n",
      "pass? True\n"
     ]
    }
   ],
   "source": [
    "LIMIT = 12\n",
    "generator1 = FileRecordGenerator(\"reader-test.csv\", static_params, rename_params, limit=LIMIT)\n",
    "\n",
    "count = 0\n",
    "while True:\n",
    "    item = generator1.consume()\n",
    "    if not item:\n",
    "        break\n",
    "    else:\n",
    "        count += 1\n",
    "        print(generator1.params_state())\n",
    "print(f\"pass? {count == (10 if not LIMIT or LIMIT > 10 else LIMIT)}\")"
   ]
  },
  {
   "cell_type": "markdown",
   "metadata": {},
   "source": [
    "# Both FileRecord and Combination"
   ]
  },
  {
   "cell_type": "code",
   "execution_count": 4,
   "metadata": {},
   "outputs": [
    {
     "name": "stdout",
     "output_type": "stream",
     "text": [
      "{'RbP': 0.5, 'RbS': 0.5, 'RsS': 0.7, 'Dps': 25.162344652610823, 'Dsp': 6.859701451393198, 'Dpp': 7.7246490935568355, 'Dss': 9.683314270122064, 'sigmaP': None, 'sigmaSmax': 0.5690398472221145}\n",
      "{'RbP': 0.5, 'RbS': 2.0, 'RsS': 0.7, 'Dps': 25.162344652610823, 'Dsp': 6.859701451393198, 'Dpp': 7.7246490935568355, 'Dss': 9.683314270122064, 'sigmaP': None, 'sigmaSmax': 0.5690398472221145}\n",
      "{'RbP': 1.0, 'RbS': 0.5, 'RsS': 0.7, 'Dps': 25.162344652610823, 'Dsp': 6.859701451393198, 'Dpp': 7.7246490935568355, 'Dss': 9.683314270122064, 'sigmaP': None, 'sigmaSmax': 0.5690398472221145}\n",
      "{'RbP': 1.0, 'RbS': 2.0, 'RsS': 0.7, 'Dps': 25.162344652610823, 'Dsp': 6.859701451393198, 'Dpp': 7.7246490935568355, 'Dss': 9.683314270122064, 'sigmaP': None, 'sigmaSmax': 0.5690398472221145}\n",
      "{'RbP': 1.5, 'RbS': 0.5, 'RsS': 0.7, 'Dps': 25.162344652610823, 'Dsp': 6.859701451393198, 'Dpp': 7.7246490935568355, 'Dss': 9.683314270122064, 'sigmaP': None, 'sigmaSmax': 0.5690398472221145}\n",
      "{'RbP': 1.5, 'RbS': 2.0, 'RsS': 0.7, 'Dps': 25.162344652610823, 'Dsp': 6.859701451393198, 'Dpp': 7.7246490935568355, 'Dss': 9.683314270122064, 'sigmaP': None, 'sigmaSmax': 0.5690398472221145}\n",
      "{'RbP': 0.5, 'RbS': 0.5, 'RsS': 0.7, 'Dps': 1.9216550281123224, 'Dsp': 7.612628414485895, 'Dpp': 4.067561216627952, 'Dss': 0.1959534807697038, 'sigmaP': None, 'sigmaSmax': 0.9996603062818156}\n",
      "{'RbP': 0.5, 'RbS': 2.0, 'RsS': 0.7, 'Dps': 1.9216550281123224, 'Dsp': 7.612628414485895, 'Dpp': 4.067561216627952, 'Dss': 0.1959534807697038, 'sigmaP': None, 'sigmaSmax': 0.9996603062818156}\n",
      "{'RbP': 1.0, 'RbS': 0.5, 'RsS': 0.7, 'Dps': 1.9216550281123224, 'Dsp': 7.612628414485895, 'Dpp': 4.067561216627952, 'Dss': 0.1959534807697038, 'sigmaP': None, 'sigmaSmax': 0.9996603062818156}\n",
      "{'RbP': 1.0, 'RbS': 2.0, 'RsS': 0.7, 'Dps': 1.9216550281123224, 'Dsp': 7.612628414485895, 'Dpp': 4.067561216627952, 'Dss': 0.1959534807697038, 'sigmaP': None, 'sigmaSmax': 0.9996603062818156}\n",
      "{'RbP': 1.5, 'RbS': 0.5, 'RsS': 0.7, 'Dps': 1.9216550281123224, 'Dsp': 7.612628414485895, 'Dpp': 4.067561216627952, 'Dss': 0.1959534807697038, 'sigmaP': None, 'sigmaSmax': 0.9996603062818156}\n",
      "{'RbP': 1.5, 'RbS': 2.0, 'RsS': 0.7, 'Dps': 1.9216550281123224, 'Dsp': 7.612628414485895, 'Dpp': 4.067561216627952, 'Dss': 0.1959534807697038, 'sigmaP': None, 'sigmaSmax': 0.9996603062818156}\n",
      "{'RbP': 0.5, 'RbS': 0.5, 'RsS': 0.7, 'Dps': 6.206387114335467, 'Dsp': 17.750473867595325, 'Dpp': 1.2170656416457548, 'Dss': 14.13090267570226, 'sigmaP': None, 'sigmaSmax': 0.9400245064409076}\n",
      "{'RbP': 0.5, 'RbS': 2.0, 'RsS': 0.7, 'Dps': 6.206387114335467, 'Dsp': 17.750473867595325, 'Dpp': 1.2170656416457548, 'Dss': 14.13090267570226, 'sigmaP': None, 'sigmaSmax': 0.9400245064409076}\n",
      "{'RbP': 1.0, 'RbS': 0.5, 'RsS': 0.7, 'Dps': 6.206387114335467, 'Dsp': 17.750473867595325, 'Dpp': 1.2170656416457548, 'Dss': 14.13090267570226, 'sigmaP': None, 'sigmaSmax': 0.9400245064409076}\n",
      "{'RbP': 1.0, 'RbS': 2.0, 'RsS': 0.7, 'Dps': 6.206387114335467, 'Dsp': 17.750473867595325, 'Dpp': 1.2170656416457548, 'Dss': 14.13090267570226, 'sigmaP': None, 'sigmaSmax': 0.9400245064409076}\n",
      "{'RbP': 1.5, 'RbS': 0.5, 'RsS': 0.7, 'Dps': 6.206387114335467, 'Dsp': 17.750473867595325, 'Dpp': 1.2170656416457548, 'Dss': 14.13090267570226, 'sigmaP': None, 'sigmaSmax': 0.9400245064409076}\n",
      "{'RbP': 1.5, 'RbS': 2.0, 'RsS': 0.7, 'Dps': 6.206387114335467, 'Dsp': 17.750473867595325, 'Dpp': 1.2170656416457548, 'Dss': 14.13090267570226, 'sigmaP': None, 'sigmaSmax': 0.9400245064409076}\n",
      "{'RbP': 0.5, 'RbS': 0.5, 'RsS': 0.7, 'Dps': 20.66460589992428, 'Dsp': 8.085601862911295, 'Dpp': 10.647622942126322, 'Dss': 4.016835643042644, 'sigmaP': None, 'sigmaSmax': 0.9165532515896848}\n",
      "{'RbP': 0.5, 'RbS': 2.0, 'RsS': 0.7, 'Dps': 20.66460589992428, 'Dsp': 8.085601862911295, 'Dpp': 10.647622942126322, 'Dss': 4.016835643042644, 'sigmaP': None, 'sigmaSmax': 0.9165532515896848}\n",
      "{'RbP': 1.0, 'RbS': 0.5, 'RsS': 0.7, 'Dps': 20.66460589992428, 'Dsp': 8.085601862911295, 'Dpp': 10.647622942126322, 'Dss': 4.016835643042644, 'sigmaP': None, 'sigmaSmax': 0.9165532515896848}\n",
      "{'RbP': 1.0, 'RbS': 2.0, 'RsS': 0.7, 'Dps': 20.66460589992428, 'Dsp': 8.085601862911295, 'Dpp': 10.647622942126322, 'Dss': 4.016835643042644, 'sigmaP': None, 'sigmaSmax': 0.9165532515896848}\n",
      "{'RbP': 1.5, 'RbS': 0.5, 'RsS': 0.7, 'Dps': 20.66460589992428, 'Dsp': 8.085601862911295, 'Dpp': 10.647622942126322, 'Dss': 4.016835643042644, 'sigmaP': None, 'sigmaSmax': 0.9165532515896848}\n",
      "{'RbP': 1.5, 'RbS': 2.0, 'RsS': 0.7, 'Dps': 20.66460589992428, 'Dsp': 8.085601862911295, 'Dpp': 10.647622942126322, 'Dss': 4.016835643042644, 'sigmaP': None, 'sigmaSmax': 0.9165532515896848}\n",
      "{'RbP': 0.5, 'RbS': 0.5, 'RsS': 0.7, 'Dps': 21.741858778903225, 'Dsp': 8.257337834657585, 'Dpp': 27.95439988414336, 'Dss': 1.681459466471581, 'sigmaP': None, 'sigmaSmax': 0.9076323111082464}\n",
      "{'RbP': 0.5, 'RbS': 2.0, 'RsS': 0.7, 'Dps': 21.741858778903225, 'Dsp': 8.257337834657585, 'Dpp': 27.95439988414336, 'Dss': 1.681459466471581, 'sigmaP': None, 'sigmaSmax': 0.9076323111082464}\n",
      "{'RbP': 1.0, 'RbS': 0.5, 'RsS': 0.7, 'Dps': 21.741858778903225, 'Dsp': 8.257337834657585, 'Dpp': 27.95439988414336, 'Dss': 1.681459466471581, 'sigmaP': None, 'sigmaSmax': 0.9076323111082464}\n",
      "{'RbP': 1.0, 'RbS': 2.0, 'RsS': 0.7, 'Dps': 21.741858778903225, 'Dsp': 8.257337834657585, 'Dpp': 27.95439988414336, 'Dss': 1.681459466471581, 'sigmaP': None, 'sigmaSmax': 0.9076323111082464}\n",
      "{'RbP': 1.5, 'RbS': 0.5, 'RsS': 0.7, 'Dps': 21.741858778903225, 'Dsp': 8.257337834657585, 'Dpp': 27.95439988414336, 'Dss': 1.681459466471581, 'sigmaP': None, 'sigmaSmax': 0.9076323111082464}\n",
      "{'RbP': 1.5, 'RbS': 2.0, 'RsS': 0.7, 'Dps': 21.741858778903225, 'Dsp': 8.257337834657585, 'Dpp': 27.95439988414336, 'Dss': 1.681459466471581, 'sigmaP': None, 'sigmaSmax': 0.9076323111082464}\n",
      "pass? True\n"
     ]
    }
   ],
   "source": [
    "_generator2 = FileRecordGenerator(\"reader-test.csv\", static_params, rename_params, limit=5)\n",
    "generator2 = CombinationGenerator(None, _generator2, RbP=[0.5, 1.0, 1.5], RbS=[0.5, 2.0], RsS=0.7)\n",
    "\n",
    "count = 0\n",
    "while True:\n",
    "    item = generator2.consume()\n",
    "    if not item:\n",
    "        break\n",
    "    else:\n",
    "        count += 1\n",
    "        # print(item.get_state())\n",
    "        print(generator2.params_state())\n",
    "print(f\"pass? {count == 30}\")"
   ]
  },
  {
   "cell_type": "markdown",
   "metadata": {},
   "source": [
    "# Sample"
   ]
  },
  {
   "cell_type": "markdown",
   "metadata": {},
   "source": [
    "## Both - All Success"
   ]
  },
  {
   "cell_type": "code",
   "execution_count": 5,
   "metadata": {},
   "outputs": [
    {
     "name": "stdout",
     "output_type": "stream",
     "text": [
      "{'RbP': 0.5, 'RbS': 0.5, 'Dpp': 7.7246490935568355, 'Dpe': 24.473327693222537, 'Dpf': 11.30266736516635}\n",
      "{'RbP': 0.5, 'RbS': 0.5, 'Dpp': 7.7246490935568355, 'Dpe': 29.22315690708431, 'Dpf': 13.859063343399242}\n",
      "{'RbP': 0.5, 'RbS': 0.5, 'Dpp': 7.7246490935568355, 'Dpe': 16.763206101993926, 'Dpf': 19.119131221434163}\n",
      "{'RbP': 0.5, 'RbS': 2.0, 'Dpp': 7.7246490935568355, 'Dpe': 10.748224574576904, 'Dpf': 0.07820250451795574}\n",
      "{'RbP': 0.5, 'RbS': 2.0, 'Dpp': 7.7246490935568355, 'Dpe': 1.547079875873375, 'Dpf': 3.565823555207573}\n",
      "{'RbP': 0.5, 'RbS': 2.0, 'Dpp': 7.7246490935568355, 'Dpe': 3.8091150859106584, 'Dpf': 14.801810722423436}\n",
      "{'RbP': 1.5, 'RbS': 0.5, 'Dpp': 7.7246490935568355, 'Dpe': 22.58744714660534, 'Dpf': 23.869717255751183}\n",
      "{'RbP': 1.5, 'RbS': 0.5, 'Dpp': 7.7246490935568355, 'Dpe': 18.462760869139967, 'Dpf': 28.698214319451793}\n",
      "{'RbP': 1.5, 'RbS': 0.5, 'Dpp': 7.7246490935568355, 'Dpe': 8.865435429737209, 'Dpf': 20.591339994610752}\n",
      "{'RbP': 1.5, 'RbS': 2.0, 'Dpp': 7.7246490935568355, 'Dpe': 7.863515040103782, 'Dpf': 28.41333174358998}\n",
      "{'RbP': 1.5, 'RbS': 2.0, 'Dpp': 7.7246490935568355, 'Dpe': 29.75304452774185, 'Dpf': 25.86662912716106}\n",
      "{'RbP': 1.5, 'RbS': 2.0, 'Dpp': 7.7246490935568355, 'Dpe': 23.26869790787267, 'Dpf': 8.69922093783792}\n",
      "{'RbP': 0.5, 'RbS': 0.5, 'Dpp': 4.067561216627952, 'Dpe': 15.618583551335249, 'Dpf': 8.613635777078281}\n",
      "{'RbP': 0.5, 'RbS': 0.5, 'Dpp': 4.067561216627952, 'Dpe': 27.767268816683195, 'Dpf': 4.944227610749906}\n",
      "{'RbP': 0.5, 'RbS': 0.5, 'Dpp': 4.067561216627952, 'Dpe': 26.79609362257192, 'Dpf': 7.737035558738131}\n",
      "{'RbP': 0.5, 'RbS': 2.0, 'Dpp': 4.067561216627952, 'Dpe': 26.43025911239299, 'Dpf': 6.135574962893383}\n",
      "{'RbP': 0.5, 'RbS': 2.0, 'Dpp': 4.067561216627952, 'Dpe': 17.473056252273874, 'Dpf': 18.276410271073402}\n",
      "{'RbP': 0.5, 'RbS': 2.0, 'Dpp': 4.067561216627952, 'Dpe': 19.899395862994517, 'Dpf': 25.14957819226983}\n",
      "{'RbP': 1.5, 'RbS': 0.5, 'Dpp': 4.067561216627952, 'Dpe': 5.159963542680095, 'Dpf': 20.005510022549917}\n",
      "{'RbP': 1.5, 'RbS': 0.5, 'Dpp': 4.067561216627952, 'Dpe': 10.696166867667332, 'Dpf': 2.0620165173297735}\n",
      "{'RbP': 1.5, 'RbS': 0.5, 'Dpp': 4.067561216627952, 'Dpe': 4.3152178392732345, 'Dpf': 28.958938647480306}\n",
      "{'RbP': 1.5, 'RbS': 2.0, 'Dpp': 4.067561216627952, 'Dpe': 7.81709473630856, 'Dpf': 5.129101586804153}\n",
      "{'RbP': 1.5, 'RbS': 2.0, 'Dpp': 4.067561216627952, 'Dpe': 27.372785720016203, 'Dpf': 12.646847981710444}\n",
      "{'RbP': 1.5, 'RbS': 2.0, 'Dpp': 4.067561216627952, 'Dpe': 27.944817949150394, 'Dpf': 14.394678582322832}\n",
      "{'RbP': 0.5, 'RbS': 0.5, 'Dpp': 1.2170656416457548, 'Dpe': 26.851395605522775, 'Dpf': 16.053139786438308}\n",
      "{'RbP': 0.5, 'RbS': 0.5, 'Dpp': 1.2170656416457548, 'Dpe': 26.539339953023894, 'Dpf': 26.72905344746125}\n",
      "{'RbP': 0.5, 'RbS': 0.5, 'Dpp': 1.2170656416457548, 'Dpe': 11.719122597732047, 'Dpf': 18.820229811267513}\n",
      "{'RbP': 0.5, 'RbS': 2.0, 'Dpp': 1.2170656416457548, 'Dpe': 17.81522470813629, 'Dpf': 6.263486988937633}\n",
      "{'RbP': 0.5, 'RbS': 2.0, 'Dpp': 1.2170656416457548, 'Dpe': 12.585910098506796, 'Dpf': 17.56730123561922}\n",
      "{'RbP': 0.5, 'RbS': 2.0, 'Dpp': 1.2170656416457548, 'Dpe': 9.201935838802804, 'Dpf': 13.01378025292019}\n",
      "{'RbP': 1.5, 'RbS': 0.5, 'Dpp': 1.2170656416457548, 'Dpe': 22.0433817316745, 'Dpf': 28.09768196140584}\n",
      "{'RbP': 1.5, 'RbS': 0.5, 'Dpp': 1.2170656416457548, 'Dpe': 26.52703450254129, 'Dpf': 22.728557581383615}\n",
      "{'RbP': 1.5, 'RbS': 0.5, 'Dpp': 1.2170656416457548, 'Dpe': 18.133109783073767, 'Dpf': 1.993598684255381}\n",
      "{'RbP': 1.5, 'RbS': 2.0, 'Dpp': 1.2170656416457548, 'Dpe': 7.678105713159573, 'Dpf': 11.849027455943709}\n",
      "{'RbP': 1.5, 'RbS': 2.0, 'Dpp': 1.2170656416457548, 'Dpe': 7.83972442867976, 'Dpf': 25.410957337503135}\n",
      "{'RbP': 1.5, 'RbS': 2.0, 'Dpp': 1.2170656416457548, 'Dpe': 17.52923465963853, 'Dpf': 12.623676924347068}\n",
      "pass? True\n"
     ]
    }
   ],
   "source": [
    "_generator31 = FileRecordGenerator(\"reader-test.csv\", static_params, rename_params, limit=3)\n",
    "_generator32 = CombinationGenerator(None, _generator31, RbP=[0.5, 1.5], RbS=[0.5, 2.0])\n",
    "generator3 = SampleGenerator(_generator32, 3, [Channel.PE, Channel.PF, Channel.SE, Channel.SF], 30, 10, True)\n",
    "\n",
    "count = 0\n",
    "while True:\n",
    "    item = generator3.consume()\n",
    "    if not item:\n",
    "        break\n",
    "    else:\n",
    "        count += 1\n",
    "        print(generator3.params.get_state([Channel.PE, Channel.PF, \"RbP\", \"RbS\", Channel.PP]))\n",
    "        generator3.forward()\n",
    "print(f\"pass? {count == 36}\")"
   ]
  },
  {
   "cell_type": "markdown",
   "metadata": {},
   "source": [
    "# Both - Some Fails, Some Retries"
   ]
  },
  {
   "cell_type": "code",
   "execution_count": 15,
   "metadata": {},
   "outputs": [
    {
     "name": "stdout",
     "output_type": "stream",
     "text": [
      "iter 1: index 0: {'RbP': 0.5, 'RbS': 1.0, 'Dpp': 7.7246490935568355, 'Dpe': 19.24788286530531, 'Dpf': 24.394880048725746}\n",
      "iter 2: index 0: PASS {'RbP': 0.5, 'RbS': 1.0, 'Dpp': 7.7246490935568355, 'Dpe': 27.85397949946532, 'Dpf': 3.2144197191280757}\n",
      "iter 3: index 1: PASS {'RbP': 0.5, 'RbS': 1.0, 'Dpp': 7.7246490935568355, 'Dpe': 27.229908664560323, 'Dpf': 8.377653920494257}\n",
      "iter 4: index 2: {'RbP': 0.5, 'RbS': 1.0, 'Dpp': 7.7246490935568355, 'Dpe': 28.22914314654113, 'Dpf': 20.464263454239713}\n",
      "iter 5: index 2: PASS {'RbP': 1.5, 'RbS': 1.0, 'Dpp': 7.7246490935568355, 'Dpe': 5.930916888485372, 'Dpf': 6.321660521562262}\n",
      "iter 6: index 3: PASS {'RbP': 1.5, 'RbS': 1.0, 'Dpp': 7.7246490935568355, 'Dpe': 4.2706515793421875, 'Dpf': 20.607395457684365}\n",
      "iter 7: index 4: {'RbP': 1.5, 'RbS': 1.0, 'Dpp': 7.7246490935568355, 'Dpe': 0.3833031023527178, 'Dpf': 2.284142323627578}\n",
      "iter 8: index 4: PASS {'RbP': 1.5, 'RbS': 1.0, 'Dpp': 7.7246490935568355, 'Dpe': 4.639806570234677, 'Dpf': 16.25965311370327}\n",
      "iter 9: index 5: {'RbP': 1.5, 'RbS': 1.0, 'Dpp': 7.7246490935568355, 'Dpe': 23.49040228922809, 'Dpf': 13.735141399224979}\n",
      "iter 10: index 5: {'RbP': 1.5, 'RbS': 1.0, 'Dpp': 7.7246490935568355, 'Dpe': 12.500035943036682, 'Dpf': 26.47624037918205}\n",
      "iter 11: index 5: {'RbP': 1.5, 'RbS': 1.0, 'Dpp': 7.7246490935568355, 'Dpe': 28.78602619928741, 'Dpf': 21.891311420929274}\n",
      "iter 12: index 5: {'RbP': 1.5, 'RbS': 1.0, 'Dpp': 7.7246490935568355, 'Dpe': 19.68948421575693, 'Dpf': 4.932855033241949}\n",
      "iter 13: index 5: {'RbP': 1.5, 'RbS': 1.0, 'Dpp': 7.7246490935568355, 'Dpe': 8.689540265336786, 'Dpf': 6.048015563645626}\n",
      "retries reach maximal for sample at index 5 for group 2\n",
      "iter 14: index 6: PASS {'RbP': 0.5, 'RbS': 1.0, 'Dpp': 4.067561216627952, 'Dpe': 5.081223291368802, 'Dpf': 20.043737001514028}\n",
      "iter 15: index 7: PASS {'RbP': 0.5, 'RbS': 1.0, 'Dpp': 4.067561216627952, 'Dpe': 24.777797409182302, 'Dpf': 5.106578448029819}\n",
      "iter 16: index 8: {'RbP': 0.5, 'RbS': 1.0, 'Dpp': 4.067561216627952, 'Dpe': 22.92759312560896, 'Dpf': 10.135929907774873}\n",
      "iter 17: index 8: PASS {'RbP': 1.5, 'RbS': 1.0, 'Dpp': 4.067561216627952, 'Dpe': 13.248163023294913, 'Dpf': 12.354548507473583}\n",
      "iter 18: index 9: PASS {'RbP': 1.5, 'RbS': 1.0, 'Dpp': 4.067561216627952, 'Dpe': 26.976265173750658, 'Dpf': 3.341449382560845}\n",
      "iter 19: index 10: {'RbP': 1.5, 'RbS': 1.0, 'Dpp': 4.067561216627952, 'Dpe': 20.622956078072047, 'Dpf': 2.961863115540763}\n",
      "iter 20: index 10: PASS {'RbP': 1.5, 'RbS': 1.0, 'Dpp': 4.067561216627952, 'Dpe': 3.7130393343245016, 'Dpf': 29.451339530371964}\n",
      "iter 21: index 11: PASS {'RbP': 0.5, 'RbS': 1.0, 'Dpp': 1.2170656416457548, 'Dpe': 2.3550650319942203, 'Dpf': 16.80565792455698}\n",
      "iter 22: index 12: {'RbP': 0.5, 'RbS': 1.0, 'Dpp': 1.2170656416457548, 'Dpe': 9.337961633687813, 'Dpf': 12.837908214529161}\n",
      "iter 23: index 12: {'RbP': 0.5, 'RbS': 1.0, 'Dpp': 1.2170656416457548, 'Dpe': 24.168205359414745, 'Dpf': 23.646226748684068}\n",
      "iter 24: index 12: {'RbP': 0.5, 'RbS': 1.0, 'Dpp': 1.2170656416457548, 'Dpe': 5.067794597072515, 'Dpf': 22.83984913572839}\n",
      "iter 25: index 12: {'RbP': 0.5, 'RbS': 1.0, 'Dpp': 1.2170656416457548, 'Dpe': 19.404649385531876, 'Dpf': 18.594709703161346}\n",
      "iter 26: index 12: {'RbP': 0.5, 'RbS': 1.0, 'Dpp': 1.2170656416457548, 'Dpe': 20.983792435537357, 'Dpf': 27.137623521098885}\n",
      "retries reach maximal for sample at index 12 for group 5\n",
      "iter 27: index 13: PASS {'RbP': 0.5, 'RbS': 1.0, 'Dpp': 1.2170656416457548, 'Dpe': 17.093792854616865, 'Dpf': 12.155686486433536}\n",
      "iter 28: index 14: {'RbP': 0.5, 'RbS': 1.0, 'Dpp': 1.2170656416457548, 'Dpe': 9.063089796809782, 'Dpf': 22.701026078203853}\n",
      "iter 29: index 14: PASS {'RbP': 1.5, 'RbS': 1.0, 'Dpp': 1.2170656416457548, 'Dpe': 22.78520088520223, 'Dpf': 29.854483686215385}\n",
      "iter 30: index 15: PASS {'RbP': 1.5, 'RbS': 1.0, 'Dpp': 1.2170656416457548, 'Dpe': 9.278167440828927, 'Dpf': 25.720226174014044}\n",
      "iter 31: index 16: {'RbP': 1.5, 'RbS': 1.0, 'Dpp': 1.2170656416457548, 'Dpe': 13.899594183210649, 'Dpf': 13.993425536641062}\n",
      "iter 32: index 16: PASS {'RbP': 1.5, 'RbS': 1.0, 'Dpp': 1.2170656416457548, 'Dpe': 15.395901728993683, 'Dpf': 0.568948676476293}\n",
      "iter 33: index 17: PASS {'RbP': 1.5, 'RbS': 1.0, 'Dpp': 1.2170656416457548, 'Dpe': 16.583687978474636, 'Dpf': 12.427890799769433}\n",
      "success: 16, fail: 2, total_tries: 33\n",
      "pass? True True True\n"
     ]
    }
   ],
   "source": [
    "_generator41 = FileRecordGenerator(\"reader-test.csv\", static_params, rename_params, limit=3)\n",
    "_generator42 = CombinationGenerator(None, _generator41, RbP=[0.5, 1.5])\n",
    "generator4 = SampleGenerator(_generator42, 3, [Channel.PE, Channel.PF, Channel.SE, Channel.SF], 30, 5, True)\n",
    "\n",
    "count = 0\n",
    "while True:\n",
    "    item = generator4.consume()\n",
    "    if not item:\n",
    "        break\n",
    "    else:\n",
    "        count += 1\n",
    "        print(f\"iter {count}: index {generator4.index}:\", end=\" \")\n",
    "\n",
    "        if generator4.index % 7 != 5:\n",
    "            if count % 3 != 1:\n",
    "                print(\"PASS\", end=\" \")\n",
    "                generator4.forward()\n",
    "        print(generator4.params.get_state([Channel.PE, Channel.PF, \"RbP\", \"RbS\", Channel.PP]))\n",
    "\n",
    "print(generator4)\n",
    "print(f\"pass? {generator4.fail == 2} {generator4.get_success() == 16} {generator4.get_total_tries() == count}\")"
   ]
  }
 ],
 "metadata": {
  "kernelspec": {
   "display_name": "optimization",
   "language": "python",
   "name": "python3"
  },
  "language_info": {
   "codemirror_mode": {
    "name": "ipython",
    "version": 3
   },
   "file_extension": ".py",
   "mimetype": "text/x-python",
   "name": "python",
   "nbconvert_exporter": "python",
   "pygments_lexer": "ipython3",
   "version": "3.10.12"
  }
 },
 "nbformat": 4,
 "nbformat_minor": 2
}
